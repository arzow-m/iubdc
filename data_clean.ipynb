{
  "cells": [
    {
      "cell_type": "markdown",
      "metadata": {
        "id": "view-in-github",
        "colab_type": "text"
      },
      "source": [
        "<a href=\"https://colab.research.google.com/github/arzow-m/iubdc/blob/main/data_clean.ipynb\" target=\"_parent\"><img src=\"https://colab.research.google.com/assets/colab-badge.svg\" alt=\"Open In Colab\"/></a>"
      ]
    },
    {
      "cell_type": "markdown",
      "id": "6aa9896c",
      "metadata": {
        "id": "6aa9896c"
      },
      "source": [
        "5 june 2025\n",
        "- look for patients with ADRs and record subject_id\n",
        "- gather all relevant data for those ids\n",
        "\n",
        "relevant data:\n",
        "- subject id (only for patients with adrs, so will be the same)\n",
        "- age -> higher age increases^ risk of adr\n",
        "- diagnosis(or # of diagnoses?) ->drug-disease interaction^ (diabetes, high/low bp, ulcer, glaucoma, enlarged prostate, poor bladder control, and insomnia)\n",
        "    -# of diagnoses (count unique icd per subject_id)\n",
        "- medications\n",
        "    -# of types -> use of serveral medications ^ (more likely to have 1+ chronic medical disorder, liver/kidneys do not work as well, etc)\n",
        "        https://www.merckmanuals.com/en-ca/home/older-people-s-health-issues/aging-and-medications/aging-and-medications#Benefits-and-Risks-of-Prescription-Medications_v838778\n",
        "    -prescription?\n",
        "- number of adr?\n",
        "\n",
        "\n",
        "last\n",
        "- filter ages to be within range\n",
        "- rename columns"
      ]
    },
    {
      "cell_type": "code",
      "execution_count": null,
      "id": "4890701f",
      "metadata": {
        "colab": {
          "base_uri": "https://localhost:8080/"
        },
        "id": "4890701f",
        "outputId": "8241f936-9817-4a85-9dca-91b3ea5a0131"
      },
      "outputs": [
        {
          "output_type": "stream",
          "name": "stdout",
          "text": [
            "   subject_id  gender  anchor_age  num_unique_diagnoses  num_unique_drugs  \\\n",
            "0    10003400       0          72                   113               123   \n",
            "1    10002428       0          80                    84                97   \n",
            "2    10037928       0          78                    94                85   \n",
            "3    10020640       0          91                    21                35   \n",
            "4    10019003       0          65                    82               117   \n",
            "\n",
            "   polypharmacy  num_unique_procedures  had_adr  \n",
            "0             1                   24.0        1  \n",
            "1             1                   14.0        0  \n",
            "2             1                    4.0        0  \n",
            "3             1                    0.0        1  \n",
            "4             1                   15.0        0  \n"
          ]
        }
      ],
      "source": [
        "import pandas as pd\n",
        "from sklearn.preprocessing import LabelEncoder\n",
        "\n",
        "# load mimic-iv tables\n",
        "df_patient = pd.read_csv('/patients.csv.gz', index_col=0, compression='gzip')\n",
        "df_diagnose = pd.read_csv('/diagnoses_icd.csv.gz', index_col=0, compression='gzip')\n",
        "df_prescription = pd.read_csv('/prescriptions.csv.gz', index_col=0, compression='gzip')\n",
        "df_procedure = pd.read_csv('/procedures_icd.csv.gz', index_col=0, compression='gzip')\n",
        "df_chartevents = pd.read_csv('/chartevents.csv.gz', index_col=0, compression='gzip')\n",
        "\n",
        "# filter for elderly patients\n",
        "df_patient = df_patient[df_patient['anchor_age'] >= 65]\n",
        "df_mimic = df_patient[['gender', 'anchor_age']].copy()\n",
        "df_mimic.reset_index(inplace=True)  # now has subject_id column\n",
        "\n",
        "# diagnoses\n",
        "diagnosis_counts = df_diagnose[df_diagnose.index.isin(df_mimic['subject_id'])] \\\n",
        "    .groupby('subject_id')['icd_code'].nunique().reset_index(name='num_unique_diagnoses')\n",
        "df_mimic = df_mimic.merge(diagnosis_counts, on='subject_id', how='left')\n",
        "\n",
        "# prescriptions\n",
        "drug_counts = df_prescription[df_prescription.index.isin(df_mimic['subject_id'])] \\\n",
        "    .groupby('subject_id')['drug'].nunique().reset_index(name='num_unique_drugs')\n",
        "drug_counts['polypharmacy'] = (drug_counts['num_unique_drugs'] >= 5).astype(int)\n",
        "df_mimic = df_mimic.merge(drug_counts, on='subject_id', how='left')\n",
        "\n",
        "# procedures\n",
        "procedure_counts = df_procedure[df_procedure.index.isin(df_mimic['subject_id'])] \\\n",
        "    .groupby('subject_id')['icd_code'].nunique().reset_index(name='num_unique_procedures')\n",
        "df_mimic = df_mimic.merge(procedure_counts, on='subject_id', how='left')\n",
        "\n",
        "# lab averages\n",
        "# define common lab item IDs (replace with actual MIMIC item IDs if different)\n",
        "lab_ids = {\n",
        "    'creatinine': 50912,\n",
        "    'potassium': 50971\n",
        "}\n",
        "\n",
        "# adr label (from chart events - itemid 227968)\n",
        "adr_event = df_chartevents[(df_chartevents['itemid'] == 227968) & (df_chartevents['value'] == \"No\")]\n",
        "adr_patients = adr_event.index.unique().tolist()\n",
        "df_mimic['had_adr'] = df_mimic['subject_id'].isin(adr_patients).astype(int)\n",
        "\n",
        "# handle missing values\n",
        "df_mimic.fillna({\n",
        "    'num_unique_diagnoses': 0,\n",
        "    'num_unique_drugs': 0,\n",
        "    'num_unique_procedures': 0,\n",
        "}, inplace=True)\n",
        "\n",
        "# gender\n",
        "le = LabelEncoder()\n",
        "df_mimic['gender'] = le.fit_transform(df_mimic['gender'])  # F = 0, M = 1\n",
        "\n",
        "# export final csv\n",
        "df_mimic.to_csv('clean_mimic_extended.csv', index=False)\n",
        "print(df_mimic.head())\n"
      ]
    },
    {
      "cell_type": "markdown",
      "source": [
        "# condensing all patients into one unique row for model training"
      ],
      "metadata": {
        "id": "Flr6u0EgStQX"
      },
      "id": "Flr6u0EgStQX"
    },
    {
      "cell_type": "code",
      "source": [
        "from sklearn.preprocessing import LabelEncoder\n",
        "\n",
        "# convert 'had_ADR' into binary\n",
        "df_mimic['had_adr'] = df_mimic['had_adr'].astype(object) # cast the column so float error goes away\n",
        "adr_flags = df_mimic['subject_id'].isin(adr_patients)\n",
        "df_mimic.loc[adr_flags, 'had_adr'] = 'Yes'\n",
        "df_mimic.loc[~adr_flags, 'had_adr'] = 'No'\n",
        "\n",
        "df_mimic['had_adr'] = df_mimic['had_adr'].astype(str).str.strip().str.capitalize()\n",
        "df_mimic['had_adr'] = df_mimic['had_adr'].map({'Yes': 1, 'No': 0})\n",
        "\n",
        "# print(df_mimic['had_adr'].value_counts(dropna=False))\n",
        "# print(df_mimic['had_adr'].unique())\n",
        "\n",
        "df_grouped = df_mimic.groupby('subject_id').agg({\n",
        "    'gender': 'first', # doesnt change\n",
        "    'anchor_age': 'first', #doesnt change\n",
        "    'diagnosis icd': pd.Series.nunique, # num of unique diagnoses\n",
        "    'drug': pd.Series.nunique, # num of unique drugs\n",
        "    'procedure icd': pd.Series.nunique, # num of unique procedures\n",
        "    'had_adr': 'max' # doesnt change\n",
        "}).reset_index()\n",
        "\n",
        "# rename the columns for consistency\n",
        "df_grouped.rename(columns = {\n",
        "    'diagnosis icd': 'num_unique_diagnoses',\n",
        "    'drug': 'num_unique_drugs',\n",
        "    'procedure icd': 'num_unique_procedures'\n",
        "}, inplace = True)\n",
        "\n",
        "# turn gender into numerical value for consistency\n",
        "le = LabelEncoder()\n",
        "df_grouped['gender'] = le.fit_transform(df_grouped['gender'])\n",
        "# print(le.classes_)shows that F = 0, M = 1\n",
        "\n",
        "print(df_grouped.head())\n",
        "df_mimic.to_csv('df_grouped.csv', index=False)"
      ],
      "metadata": {
        "colab": {
          "base_uri": "https://localhost:8080/",
          "height": 350
        },
        "id": "TlESIAtVS36O",
        "outputId": "16904b87-4e8e-4983-aac2-e4444fe0b1b5"
      },
      "id": "TlESIAtVS36O",
      "execution_count": null,
      "outputs": [
        {
          "output_type": "error",
          "ename": "KeyError",
          "evalue": "\"Column(s) ['diagnosis icd', 'drug', 'procedure icd'] do not exist\"",
          "traceback": [
            "\u001b[0;31m---------------------------------------------------------------------------\u001b[0m",
            "\u001b[0;31mKeyError\u001b[0m                                  Traceback (most recent call last)",
            "\u001b[0;32m/tmp/ipython-input-61-337482538.py\u001b[0m in \u001b[0;36m<cell line: 0>\u001b[0;34m()\u001b[0m\n\u001b[1;32m     13\u001b[0m \u001b[0;31m# print(df_mimic['had_adr'].unique())\u001b[0m\u001b[0;34m\u001b[0m\u001b[0;34m\u001b[0m\u001b[0m\n\u001b[1;32m     14\u001b[0m \u001b[0;34m\u001b[0m\u001b[0m\n\u001b[0;32m---> 15\u001b[0;31m df_grouped = df_mimic.groupby('subject_id').agg({\n\u001b[0m\u001b[1;32m     16\u001b[0m     \u001b[0;34m'gender'\u001b[0m\u001b[0;34m:\u001b[0m \u001b[0;34m'first'\u001b[0m\u001b[0;34m,\u001b[0m \u001b[0;31m# doesnt change\u001b[0m\u001b[0;34m\u001b[0m\u001b[0;34m\u001b[0m\u001b[0m\n\u001b[1;32m     17\u001b[0m     \u001b[0;34m'anchor_age'\u001b[0m\u001b[0;34m:\u001b[0m \u001b[0;34m'first'\u001b[0m\u001b[0;34m,\u001b[0m \u001b[0;31m#doesnt change\u001b[0m\u001b[0;34m\u001b[0m\u001b[0;34m\u001b[0m\u001b[0m\n",
            "\u001b[0;32m/usr/local/lib/python3.11/dist-packages/pandas/core/groupby/generic.py\u001b[0m in \u001b[0;36maggregate\u001b[0;34m(self, func, engine, engine_kwargs, *args, **kwargs)\u001b[0m\n\u001b[1;32m   1430\u001b[0m \u001b[0;34m\u001b[0m\u001b[0m\n\u001b[1;32m   1431\u001b[0m         \u001b[0mop\u001b[0m \u001b[0;34m=\u001b[0m \u001b[0mGroupByApply\u001b[0m\u001b[0;34m(\u001b[0m\u001b[0mself\u001b[0m\u001b[0;34m,\u001b[0m \u001b[0mfunc\u001b[0m\u001b[0;34m,\u001b[0m \u001b[0margs\u001b[0m\u001b[0;34m=\u001b[0m\u001b[0margs\u001b[0m\u001b[0;34m,\u001b[0m \u001b[0mkwargs\u001b[0m\u001b[0;34m=\u001b[0m\u001b[0mkwargs\u001b[0m\u001b[0;34m)\u001b[0m\u001b[0;34m\u001b[0m\u001b[0;34m\u001b[0m\u001b[0m\n\u001b[0;32m-> 1432\u001b[0;31m         \u001b[0mresult\u001b[0m \u001b[0;34m=\u001b[0m \u001b[0mop\u001b[0m\u001b[0;34m.\u001b[0m\u001b[0magg\u001b[0m\u001b[0;34m(\u001b[0m\u001b[0;34m)\u001b[0m\u001b[0;34m\u001b[0m\u001b[0;34m\u001b[0m\u001b[0m\n\u001b[0m\u001b[1;32m   1433\u001b[0m         \u001b[0;32mif\u001b[0m \u001b[0;32mnot\u001b[0m \u001b[0mis_dict_like\u001b[0m\u001b[0;34m(\u001b[0m\u001b[0mfunc\u001b[0m\u001b[0;34m)\u001b[0m \u001b[0;32mand\u001b[0m \u001b[0mresult\u001b[0m \u001b[0;32mis\u001b[0m \u001b[0;32mnot\u001b[0m \u001b[0;32mNone\u001b[0m\u001b[0;34m:\u001b[0m\u001b[0;34m\u001b[0m\u001b[0;34m\u001b[0m\u001b[0m\n\u001b[1;32m   1434\u001b[0m             \u001b[0;31m# GH #52849\u001b[0m\u001b[0;34m\u001b[0m\u001b[0;34m\u001b[0m\u001b[0m\n",
            "\u001b[0;32m/usr/local/lib/python3.11/dist-packages/pandas/core/apply.py\u001b[0m in \u001b[0;36magg\u001b[0;34m(self)\u001b[0m\n\u001b[1;32m    188\u001b[0m \u001b[0;34m\u001b[0m\u001b[0m\n\u001b[1;32m    189\u001b[0m         \u001b[0;32mif\u001b[0m \u001b[0mis_dict_like\u001b[0m\u001b[0;34m(\u001b[0m\u001b[0mfunc\u001b[0m\u001b[0;34m)\u001b[0m\u001b[0;34m:\u001b[0m\u001b[0;34m\u001b[0m\u001b[0;34m\u001b[0m\u001b[0m\n\u001b[0;32m--> 190\u001b[0;31m             \u001b[0;32mreturn\u001b[0m \u001b[0mself\u001b[0m\u001b[0;34m.\u001b[0m\u001b[0magg_dict_like\u001b[0m\u001b[0;34m(\u001b[0m\u001b[0;34m)\u001b[0m\u001b[0;34m\u001b[0m\u001b[0;34m\u001b[0m\u001b[0m\n\u001b[0m\u001b[1;32m    191\u001b[0m         \u001b[0;32melif\u001b[0m \u001b[0mis_list_like\u001b[0m\u001b[0;34m(\u001b[0m\u001b[0mfunc\u001b[0m\u001b[0;34m)\u001b[0m\u001b[0;34m:\u001b[0m\u001b[0;34m\u001b[0m\u001b[0;34m\u001b[0m\u001b[0m\n\u001b[1;32m    192\u001b[0m             \u001b[0;31m# we require a list, but not a 'str'\u001b[0m\u001b[0;34m\u001b[0m\u001b[0;34m\u001b[0m\u001b[0m\n",
            "\u001b[0;32m/usr/local/lib/python3.11/dist-packages/pandas/core/apply.py\u001b[0m in \u001b[0;36magg_dict_like\u001b[0;34m(self)\u001b[0m\n\u001b[1;32m    421\u001b[0m         \u001b[0mResult\u001b[0m \u001b[0mof\u001b[0m \u001b[0maggregation\u001b[0m\u001b[0;34m.\u001b[0m\u001b[0;34m\u001b[0m\u001b[0;34m\u001b[0m\u001b[0m\n\u001b[1;32m    422\u001b[0m         \"\"\"\n\u001b[0;32m--> 423\u001b[0;31m         \u001b[0;32mreturn\u001b[0m \u001b[0mself\u001b[0m\u001b[0;34m.\u001b[0m\u001b[0magg_or_apply_dict_like\u001b[0m\u001b[0;34m(\u001b[0m\u001b[0mop_name\u001b[0m\u001b[0;34m=\u001b[0m\u001b[0;34m\"agg\"\u001b[0m\u001b[0;34m)\u001b[0m\u001b[0;34m\u001b[0m\u001b[0;34m\u001b[0m\u001b[0m\n\u001b[0m\u001b[1;32m    424\u001b[0m \u001b[0;34m\u001b[0m\u001b[0m\n\u001b[1;32m    425\u001b[0m     def compute_dict_like(\n",
            "\u001b[0;32m/usr/local/lib/python3.11/dist-packages/pandas/core/apply.py\u001b[0m in \u001b[0;36magg_or_apply_dict_like\u001b[0;34m(self, op_name)\u001b[0m\n\u001b[1;32m   1606\u001b[0m             \u001b[0mobj\u001b[0m\u001b[0;34m,\u001b[0m \u001b[0;34m\"as_index\"\u001b[0m\u001b[0;34m,\u001b[0m \u001b[0;32mTrue\u001b[0m\u001b[0;34m,\u001b[0m \u001b[0mcondition\u001b[0m\u001b[0;34m=\u001b[0m\u001b[0mhasattr\u001b[0m\u001b[0;34m(\u001b[0m\u001b[0mobj\u001b[0m\u001b[0;34m,\u001b[0m \u001b[0;34m\"as_index\"\u001b[0m\u001b[0;34m)\u001b[0m\u001b[0;34m\u001b[0m\u001b[0;34m\u001b[0m\u001b[0m\n\u001b[1;32m   1607\u001b[0m         ):\n\u001b[0;32m-> 1608\u001b[0;31m             result_index, result_data = self.compute_dict_like(\n\u001b[0m\u001b[1;32m   1609\u001b[0m                 \u001b[0mop_name\u001b[0m\u001b[0;34m,\u001b[0m \u001b[0mselected_obj\u001b[0m\u001b[0;34m,\u001b[0m \u001b[0mselection\u001b[0m\u001b[0;34m,\u001b[0m \u001b[0mkwargs\u001b[0m\u001b[0;34m\u001b[0m\u001b[0;34m\u001b[0m\u001b[0m\n\u001b[1;32m   1610\u001b[0m             )\n",
            "\u001b[0;32m/usr/local/lib/python3.11/dist-packages/pandas/core/apply.py\u001b[0m in \u001b[0;36mcompute_dict_like\u001b[0;34m(self, op_name, selected_obj, selection, kwargs)\u001b[0m\n\u001b[1;32m    460\u001b[0m         \u001b[0mis_groupby\u001b[0m \u001b[0;34m=\u001b[0m \u001b[0misinstance\u001b[0m\u001b[0;34m(\u001b[0m\u001b[0mobj\u001b[0m\u001b[0;34m,\u001b[0m \u001b[0;34m(\u001b[0m\u001b[0mDataFrameGroupBy\u001b[0m\u001b[0;34m,\u001b[0m \u001b[0mSeriesGroupBy\u001b[0m\u001b[0;34m)\u001b[0m\u001b[0;34m)\u001b[0m\u001b[0;34m\u001b[0m\u001b[0;34m\u001b[0m\u001b[0m\n\u001b[1;32m    461\u001b[0m         \u001b[0mfunc\u001b[0m \u001b[0;34m=\u001b[0m \u001b[0mcast\u001b[0m\u001b[0;34m(\u001b[0m\u001b[0mAggFuncTypeDict\u001b[0m\u001b[0;34m,\u001b[0m \u001b[0mself\u001b[0m\u001b[0;34m.\u001b[0m\u001b[0mfunc\u001b[0m\u001b[0;34m)\u001b[0m\u001b[0;34m\u001b[0m\u001b[0;34m\u001b[0m\u001b[0m\n\u001b[0;32m--> 462\u001b[0;31m         \u001b[0mfunc\u001b[0m \u001b[0;34m=\u001b[0m \u001b[0mself\u001b[0m\u001b[0;34m.\u001b[0m\u001b[0mnormalize_dictlike_arg\u001b[0m\u001b[0;34m(\u001b[0m\u001b[0mop_name\u001b[0m\u001b[0;34m,\u001b[0m \u001b[0mselected_obj\u001b[0m\u001b[0;34m,\u001b[0m \u001b[0mfunc\u001b[0m\u001b[0;34m)\u001b[0m\u001b[0;34m\u001b[0m\u001b[0;34m\u001b[0m\u001b[0m\n\u001b[0m\u001b[1;32m    463\u001b[0m \u001b[0;34m\u001b[0m\u001b[0m\n\u001b[1;32m    464\u001b[0m         is_non_unique_col = (\n",
            "\u001b[0;32m/usr/local/lib/python3.11/dist-packages/pandas/core/apply.py\u001b[0m in \u001b[0;36mnormalize_dictlike_arg\u001b[0;34m(self, how, obj, func)\u001b[0m\n\u001b[1;32m    661\u001b[0m             \u001b[0mcols\u001b[0m \u001b[0;34m=\u001b[0m \u001b[0mIndex\u001b[0m\u001b[0;34m(\u001b[0m\u001b[0mlist\u001b[0m\u001b[0;34m(\u001b[0m\u001b[0mfunc\u001b[0m\u001b[0;34m.\u001b[0m\u001b[0mkeys\u001b[0m\u001b[0;34m(\u001b[0m\u001b[0;34m)\u001b[0m\u001b[0;34m)\u001b[0m\u001b[0;34m)\u001b[0m\u001b[0;34m.\u001b[0m\u001b[0mdifference\u001b[0m\u001b[0;34m(\u001b[0m\u001b[0mobj\u001b[0m\u001b[0;34m.\u001b[0m\u001b[0mcolumns\u001b[0m\u001b[0;34m,\u001b[0m \u001b[0msort\u001b[0m\u001b[0;34m=\u001b[0m\u001b[0;32mTrue\u001b[0m\u001b[0;34m)\u001b[0m\u001b[0;34m\u001b[0m\u001b[0;34m\u001b[0m\u001b[0m\n\u001b[1;32m    662\u001b[0m             \u001b[0;32mif\u001b[0m \u001b[0mlen\u001b[0m\u001b[0;34m(\u001b[0m\u001b[0mcols\u001b[0m\u001b[0;34m)\u001b[0m \u001b[0;34m>\u001b[0m \u001b[0;36m0\u001b[0m\u001b[0;34m:\u001b[0m\u001b[0;34m\u001b[0m\u001b[0;34m\u001b[0m\u001b[0m\n\u001b[0;32m--> 663\u001b[0;31m                 \u001b[0;32mraise\u001b[0m \u001b[0mKeyError\u001b[0m\u001b[0;34m(\u001b[0m\u001b[0;34mf\"Column(s) {list(cols)} do not exist\"\u001b[0m\u001b[0;34m)\u001b[0m\u001b[0;34m\u001b[0m\u001b[0;34m\u001b[0m\u001b[0m\n\u001b[0m\u001b[1;32m    664\u001b[0m \u001b[0;34m\u001b[0m\u001b[0m\n\u001b[1;32m    665\u001b[0m         \u001b[0maggregator_types\u001b[0m \u001b[0;34m=\u001b[0m \u001b[0;34m(\u001b[0m\u001b[0mlist\u001b[0m\u001b[0;34m,\u001b[0m \u001b[0mtuple\u001b[0m\u001b[0;34m,\u001b[0m \u001b[0mdict\u001b[0m\u001b[0;34m)\u001b[0m\u001b[0;34m\u001b[0m\u001b[0;34m\u001b[0m\u001b[0m\n",
            "\u001b[0;31mKeyError\u001b[0m: \"Column(s) ['diagnosis icd', 'drug', 'procedure icd'] do not exist\""
          ]
        }
      ]
    }
  ],
  "metadata": {
    "kernelspec": {
      "display_name": ".venv",
      "language": "python",
      "name": "python3"
    },
    "language_info": {
      "codemirror_mode": {
        "name": "ipython",
        "version": 3
      },
      "file_extension": ".py",
      "mimetype": "text/x-python",
      "name": "python",
      "nbconvert_exporter": "python",
      "pygments_lexer": "ipython3",
      "version": "3.9.6"
    },
    "colab": {
      "provenance": [],
      "include_colab_link": true
    }
  },
  "nbformat": 4,
  "nbformat_minor": 5
}